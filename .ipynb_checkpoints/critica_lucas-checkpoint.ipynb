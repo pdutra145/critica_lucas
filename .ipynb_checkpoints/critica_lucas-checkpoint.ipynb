{
 "cells": [
  {
   "cell_type": "code",
   "execution_count": 10,
   "id": "fc4601f1-7bfb-4e94-87c1-2083545e63f3",
   "metadata": {
    "tags": []
   },
   "outputs": [],
   "source": [
    "import pandas as pd\n",
    "import numpy as np"
   ]
  },
  {
   "cell_type": "markdown",
   "id": "f6422b9b-2528-4db7-a911-3956eae1e712",
   "metadata": {},
   "source": [
    "# Expectativas Ingênuas"
   ]
  },
  {
   "cell_type": "code",
   "execution_count": 11,
   "id": "c15e62f4-9d4b-45f4-aece-b32ce63bbc8c",
   "metadata": {
    "tags": []
   },
   "outputs": [],
   "source": [
    "def exp_ing(a,b, t, Xinicial, ro,erro):\n",
    "    # Parâmetro\n",
    "    parametro = b/(1-a)\n",
    "    # Colunas\n",
    "    columns = [\"Xt\", \"Yt\"]\n",
    "    \n",
    "    # Tabela Inicial\n",
    "    tabela_inicial = np.empty((t+1, 2))\n",
    "    \n",
    "    # Se ro for zero\n",
    "    if ro == 0:\n",
    "        X = [Xinicial for _ in range(t+1)]\n",
    "        Y = [parametro*Xinicial for _ in range(t+1)]\n",
    "        tabela_inicial = {'Xt':X, 'Yt':Y}\n",
    "        return pd.DataFrame(tabela_inicial, columns=columns).rename_axis('t')\n",
    "        \n",
    "    \n",
    "    # Tabela\n",
    "    tabela = pd.DataFrame(tabela_inicial, columns=columns)\n",
    "    tabela.index.name = 't'\n",
    "    \n",
    "\n",
    "    \n",
    "    # Condições iniciais\n",
    "    Xpast = Xinicial\n",
    "    Xpresent = ro*Xinicial\n",
    "    Ypresent = parametro*Xpast\n",
    "    tabela.iloc[0] = [Xinicial, parametro*Xinicial]\n",
    "    \n",
    "    # Calculando valores para cada período\n",
    "    for period in range(1,t+1):\n",
    "            Xpresent = ro*Xpast + erro\n",
    "            Ypresent = parametro*Xpresent\n",
    "                \n",
    "            Xpast = Xpresent\n",
    "\n",
    "                \n",
    "            tabela.iloc[period] = [Xpresent, Ypresent]\n",
    "            \n",
    "    return tabela"
   ]
  },
  {
   "cell_type": "code",
   "execution_count": 12,
   "id": "4cfcff0b-055d-4fa4-9fd1-0e2841647e8a",
   "metadata": {
    "tags": []
   },
   "outputs": [
    {
     "data": {
      "text/html": [
       "<div>\n",
       "<style scoped>\n",
       "    .dataframe tbody tr th:only-of-type {\n",
       "        vertical-align: middle;\n",
       "    }\n",
       "\n",
       "    .dataframe tbody tr th {\n",
       "        vertical-align: top;\n",
       "    }\n",
       "\n",
       "    .dataframe thead th {\n",
       "        text-align: right;\n",
       "    }\n",
       "</style>\n",
       "<table border=\"1\" class=\"dataframe\">\n",
       "  <thead>\n",
       "    <tr style=\"text-align: right;\">\n",
       "      <th></th>\n",
       "      <th>Xt</th>\n",
       "      <th>Yt</th>\n",
       "    </tr>\n",
       "    <tr>\n",
       "      <th>t</th>\n",
       "      <th></th>\n",
       "      <th></th>\n",
       "    </tr>\n",
       "  </thead>\n",
       "  <tbody>\n",
       "    <tr>\n",
       "      <th>0</th>\n",
       "      <td>1.000000</td>\n",
       "      <td>10.000000</td>\n",
       "    </tr>\n",
       "    <tr>\n",
       "      <th>1</th>\n",
       "      <td>1.500000</td>\n",
       "      <td>15.000000</td>\n",
       "    </tr>\n",
       "    <tr>\n",
       "      <th>2</th>\n",
       "      <td>1.750000</td>\n",
       "      <td>17.500000</td>\n",
       "    </tr>\n",
       "    <tr>\n",
       "      <th>3</th>\n",
       "      <td>1.875000</td>\n",
       "      <td>18.750000</td>\n",
       "    </tr>\n",
       "    <tr>\n",
       "      <th>4</th>\n",
       "      <td>1.937500</td>\n",
       "      <td>19.375000</td>\n",
       "    </tr>\n",
       "    <tr>\n",
       "      <th>5</th>\n",
       "      <td>1.968750</td>\n",
       "      <td>19.687500</td>\n",
       "    </tr>\n",
       "    <tr>\n",
       "      <th>6</th>\n",
       "      <td>1.984375</td>\n",
       "      <td>19.843750</td>\n",
       "    </tr>\n",
       "    <tr>\n",
       "      <th>7</th>\n",
       "      <td>1.992188</td>\n",
       "      <td>19.921875</td>\n",
       "    </tr>\n",
       "    <tr>\n",
       "      <th>8</th>\n",
       "      <td>1.996094</td>\n",
       "      <td>19.960938</td>\n",
       "    </tr>\n",
       "    <tr>\n",
       "      <th>9</th>\n",
       "      <td>1.998047</td>\n",
       "      <td>19.980469</td>\n",
       "    </tr>\n",
       "    <tr>\n",
       "      <th>10</th>\n",
       "      <td>1.999023</td>\n",
       "      <td>19.990234</td>\n",
       "    </tr>\n",
       "  </tbody>\n",
       "</table>\n",
       "</div>"
      ],
      "text/plain": [
       "          Xt         Yt\n",
       "t                      \n",
       "0   1.000000  10.000000\n",
       "1   1.500000  15.000000\n",
       "2   1.750000  17.500000\n",
       "3   1.875000  18.750000\n",
       "4   1.937500  19.375000\n",
       "5   1.968750  19.687500\n",
       "6   1.984375  19.843750\n",
       "7   1.992188  19.921875\n",
       "8   1.996094  19.960938\n",
       "9   1.998047  19.980469\n",
       "10  1.999023  19.990234"
      ]
     },
     "execution_count": 12,
     "metadata": {},
     "output_type": "execute_result"
    }
   ],
   "source": [
    "# ro = 0.5\n",
    "exp_ing(a=0.9, b=1, t=10, Xinicial=1, ro=0.5, erro=1)"
   ]
  },
  {
   "cell_type": "code",
   "execution_count": 13,
   "id": "e738d0e5-fd77-4970-b395-e5e4ea31acc2",
   "metadata": {
    "tags": []
   },
   "outputs": [
    {
     "data": {
      "text/html": [
       "<div>\n",
       "<style scoped>\n",
       "    .dataframe tbody tr th:only-of-type {\n",
       "        vertical-align: middle;\n",
       "    }\n",
       "\n",
       "    .dataframe tbody tr th {\n",
       "        vertical-align: top;\n",
       "    }\n",
       "\n",
       "    .dataframe thead th {\n",
       "        text-align: right;\n",
       "    }\n",
       "</style>\n",
       "<table border=\"1\" class=\"dataframe\">\n",
       "  <thead>\n",
       "    <tr style=\"text-align: right;\">\n",
       "      <th></th>\n",
       "      <th>Xt</th>\n",
       "      <th>Yt</th>\n",
       "    </tr>\n",
       "    <tr>\n",
       "      <th>t</th>\n",
       "      <th></th>\n",
       "      <th></th>\n",
       "    </tr>\n",
       "  </thead>\n",
       "  <tbody>\n",
       "    <tr>\n",
       "      <th>0</th>\n",
       "      <td>1</td>\n",
       "      <td>10.0</td>\n",
       "    </tr>\n",
       "    <tr>\n",
       "      <th>1</th>\n",
       "      <td>1</td>\n",
       "      <td>10.0</td>\n",
       "    </tr>\n",
       "    <tr>\n",
       "      <th>2</th>\n",
       "      <td>1</td>\n",
       "      <td>10.0</td>\n",
       "    </tr>\n",
       "    <tr>\n",
       "      <th>3</th>\n",
       "      <td>1</td>\n",
       "      <td>10.0</td>\n",
       "    </tr>\n",
       "    <tr>\n",
       "      <th>4</th>\n",
       "      <td>1</td>\n",
       "      <td>10.0</td>\n",
       "    </tr>\n",
       "    <tr>\n",
       "      <th>5</th>\n",
       "      <td>1</td>\n",
       "      <td>10.0</td>\n",
       "    </tr>\n",
       "    <tr>\n",
       "      <th>6</th>\n",
       "      <td>1</td>\n",
       "      <td>10.0</td>\n",
       "    </tr>\n",
       "    <tr>\n",
       "      <th>7</th>\n",
       "      <td>1</td>\n",
       "      <td>10.0</td>\n",
       "    </tr>\n",
       "    <tr>\n",
       "      <th>8</th>\n",
       "      <td>1</td>\n",
       "      <td>10.0</td>\n",
       "    </tr>\n",
       "    <tr>\n",
       "      <th>9</th>\n",
       "      <td>1</td>\n",
       "      <td>10.0</td>\n",
       "    </tr>\n",
       "    <tr>\n",
       "      <th>10</th>\n",
       "      <td>1</td>\n",
       "      <td>10.0</td>\n",
       "    </tr>\n",
       "  </tbody>\n",
       "</table>\n",
       "</div>"
      ],
      "text/plain": [
       "    Xt    Yt\n",
       "t           \n",
       "0    1  10.0\n",
       "1    1  10.0\n",
       "2    1  10.0\n",
       "3    1  10.0\n",
       "4    1  10.0\n",
       "5    1  10.0\n",
       "6    1  10.0\n",
       "7    1  10.0\n",
       "8    1  10.0\n",
       "9    1  10.0\n",
       "10   1  10.0"
      ]
     },
     "execution_count": 13,
     "metadata": {},
     "output_type": "execute_result"
    }
   ],
   "source": [
    "# ro = 0\n",
    "exp_ing(a=0.9, b=1, t=10, Xinicial=1, ro=0, erro=1)"
   ]
  },
  {
   "cell_type": "markdown",
   "id": "7aa6c6fb-5ab4-45f2-aa95-cf3b0eedfb9d",
   "metadata": {},
   "source": [
    "# Expectativas Adaptativas"
   ]
  },
  {
   "cell_type": "code",
   "execution_count": 14,
   "id": "7b305397-887d-4432-80d5-1893c82b112d",
   "metadata": {
    "tags": []
   },
   "outputs": [],
   "source": [
    "def exp_adapt(a,b, t, Xinicial, ro, erro):\n",
    "    # Tabela\n",
    "    tabela = pd.DataFrame(np.empty((11, 2)), columns=[\"Xt\", \"Yt\"])\n",
    "    tabela.index.name = 't'\n",
    "    \n",
    "    # Parâmetro\n",
    "    parametro = b/(1-a*ro)\n",
    "    \n",
    "    # Condições iniciais\n",
    "    Xpast = Xinicial\n",
    "    Xpresent = ro*Xinicial + erro\n",
    "    Ypast = parametro* Xinicial\n",
    "    Ypresent = ro*Ypast + parametro*erro\n",
    "    \n",
    "    # Calculando valores para cada período\n",
    "    for period in range(t+1):\n",
    "            if period > 0:\n",
    "                Xpresent = ro*Xpast + erro\n",
    "                Ypresent = ro*Ypast + parametro*erro\n",
    "                \n",
    "                Xpast = Xpresent\n",
    "                Ypast = Ypresent\n",
    "\n",
    "                \n",
    "            tabela.iloc[period] = [Xpresent, Ypresent]\n",
    "            \n",
    "    return tabela\n",
    "\n"
   ]
  },
  {
   "cell_type": "code",
   "execution_count": 15,
   "id": "607c67e1-0f0d-4a60-9a03-32737d8764e1",
   "metadata": {
    "tags": []
   },
   "outputs": [
    {
     "data": {
      "text/html": [
       "<div>\n",
       "<style scoped>\n",
       "    .dataframe tbody tr th:only-of-type {\n",
       "        vertical-align: middle;\n",
       "    }\n",
       "\n",
       "    .dataframe tbody tr th {\n",
       "        vertical-align: top;\n",
       "    }\n",
       "\n",
       "    .dataframe thead th {\n",
       "        text-align: right;\n",
       "    }\n",
       "</style>\n",
       "<table border=\"1\" class=\"dataframe\">\n",
       "  <thead>\n",
       "    <tr style=\"text-align: right;\">\n",
       "      <th></th>\n",
       "      <th>Xt</th>\n",
       "      <th>Yt</th>\n",
       "    </tr>\n",
       "    <tr>\n",
       "      <th>t</th>\n",
       "      <th></th>\n",
       "      <th></th>\n",
       "    </tr>\n",
       "  </thead>\n",
       "  <tbody>\n",
       "    <tr>\n",
       "      <th>0</th>\n",
       "      <td>1.500000</td>\n",
       "      <td>2.727273</td>\n",
       "    </tr>\n",
       "    <tr>\n",
       "      <th>1</th>\n",
       "      <td>1.500000</td>\n",
       "      <td>2.727273</td>\n",
       "    </tr>\n",
       "    <tr>\n",
       "      <th>2</th>\n",
       "      <td>1.750000</td>\n",
       "      <td>3.181818</td>\n",
       "    </tr>\n",
       "    <tr>\n",
       "      <th>3</th>\n",
       "      <td>1.875000</td>\n",
       "      <td>3.409091</td>\n",
       "    </tr>\n",
       "    <tr>\n",
       "      <th>4</th>\n",
       "      <td>1.937500</td>\n",
       "      <td>3.522727</td>\n",
       "    </tr>\n",
       "    <tr>\n",
       "      <th>5</th>\n",
       "      <td>1.968750</td>\n",
       "      <td>3.579545</td>\n",
       "    </tr>\n",
       "    <tr>\n",
       "      <th>6</th>\n",
       "      <td>1.984375</td>\n",
       "      <td>3.607955</td>\n",
       "    </tr>\n",
       "    <tr>\n",
       "      <th>7</th>\n",
       "      <td>1.992188</td>\n",
       "      <td>3.622159</td>\n",
       "    </tr>\n",
       "    <tr>\n",
       "      <th>8</th>\n",
       "      <td>1.996094</td>\n",
       "      <td>3.629261</td>\n",
       "    </tr>\n",
       "    <tr>\n",
       "      <th>9</th>\n",
       "      <td>1.998047</td>\n",
       "      <td>3.632812</td>\n",
       "    </tr>\n",
       "    <tr>\n",
       "      <th>10</th>\n",
       "      <td>1.999023</td>\n",
       "      <td>3.634588</td>\n",
       "    </tr>\n",
       "  </tbody>\n",
       "</table>\n",
       "</div>"
      ],
      "text/plain": [
       "          Xt        Yt\n",
       "t                     \n",
       "0   1.500000  2.727273\n",
       "1   1.500000  2.727273\n",
       "2   1.750000  3.181818\n",
       "3   1.875000  3.409091\n",
       "4   1.937500  3.522727\n",
       "5   1.968750  3.579545\n",
       "6   1.984375  3.607955\n",
       "7   1.992188  3.622159\n",
       "8   1.996094  3.629261\n",
       "9   1.998047  3.632812\n",
       "10  1.999023  3.634588"
      ]
     },
     "execution_count": 15,
     "metadata": {},
     "output_type": "execute_result"
    }
   ],
   "source": [
    "# ro = 0.5\n",
    "exp_adapt(a=0.9,b=1, t=10,ro=0.5,erro=1, Xinicial=1)"
   ]
  },
  {
   "cell_type": "code",
   "execution_count": 16,
   "id": "f5d3b07b-5e20-4ded-b783-9a0565fe7263",
   "metadata": {
    "tags": []
   },
   "outputs": [
    {
     "data": {
      "text/html": [
       "<div>\n",
       "<style scoped>\n",
       "    .dataframe tbody tr th:only-of-type {\n",
       "        vertical-align: middle;\n",
       "    }\n",
       "\n",
       "    .dataframe tbody tr th {\n",
       "        vertical-align: top;\n",
       "    }\n",
       "\n",
       "    .dataframe thead th {\n",
       "        text-align: right;\n",
       "    }\n",
       "</style>\n",
       "<table border=\"1\" class=\"dataframe\">\n",
       "  <thead>\n",
       "    <tr style=\"text-align: right;\">\n",
       "      <th></th>\n",
       "      <th>Xt</th>\n",
       "      <th>Yt</th>\n",
       "    </tr>\n",
       "    <tr>\n",
       "      <th>t</th>\n",
       "      <th></th>\n",
       "      <th></th>\n",
       "    </tr>\n",
       "  </thead>\n",
       "  <tbody>\n",
       "    <tr>\n",
       "      <th>0</th>\n",
       "      <td>1.0</td>\n",
       "      <td>1.0</td>\n",
       "    </tr>\n",
       "    <tr>\n",
       "      <th>1</th>\n",
       "      <td>1.0</td>\n",
       "      <td>1.0</td>\n",
       "    </tr>\n",
       "    <tr>\n",
       "      <th>2</th>\n",
       "      <td>1.0</td>\n",
       "      <td>1.0</td>\n",
       "    </tr>\n",
       "    <tr>\n",
       "      <th>3</th>\n",
       "      <td>1.0</td>\n",
       "      <td>1.0</td>\n",
       "    </tr>\n",
       "    <tr>\n",
       "      <th>4</th>\n",
       "      <td>1.0</td>\n",
       "      <td>1.0</td>\n",
       "    </tr>\n",
       "    <tr>\n",
       "      <th>5</th>\n",
       "      <td>1.0</td>\n",
       "      <td>1.0</td>\n",
       "    </tr>\n",
       "    <tr>\n",
       "      <th>6</th>\n",
       "      <td>1.0</td>\n",
       "      <td>1.0</td>\n",
       "    </tr>\n",
       "    <tr>\n",
       "      <th>7</th>\n",
       "      <td>1.0</td>\n",
       "      <td>1.0</td>\n",
       "    </tr>\n",
       "    <tr>\n",
       "      <th>8</th>\n",
       "      <td>1.0</td>\n",
       "      <td>1.0</td>\n",
       "    </tr>\n",
       "    <tr>\n",
       "      <th>9</th>\n",
       "      <td>1.0</td>\n",
       "      <td>1.0</td>\n",
       "    </tr>\n",
       "    <tr>\n",
       "      <th>10</th>\n",
       "      <td>1.0</td>\n",
       "      <td>1.0</td>\n",
       "    </tr>\n",
       "  </tbody>\n",
       "</table>\n",
       "</div>"
      ],
      "text/plain": [
       "     Xt   Yt\n",
       "t           \n",
       "0   1.0  1.0\n",
       "1   1.0  1.0\n",
       "2   1.0  1.0\n",
       "3   1.0  1.0\n",
       "4   1.0  1.0\n",
       "5   1.0  1.0\n",
       "6   1.0  1.0\n",
       "7   1.0  1.0\n",
       "8   1.0  1.0\n",
       "9   1.0  1.0\n",
       "10  1.0  1.0"
      ]
     },
     "execution_count": 16,
     "metadata": {},
     "output_type": "execute_result"
    }
   ],
   "source": [
    "# ro = 0\n",
    "exp_adapt(a=0.9,b=1, t=10,ro=0,erro=1, Xinicial=1)"
   ]
  },
  {
   "cell_type": "markdown",
   "id": "bc697f95-f6f2-4763-a466-ac1b17c9cef6",
   "metadata": {},
   "source": [
    "# Visualizando Dados"
   ]
  },
  {
   "cell_type": "code",
   "execution_count": 17,
   "id": "6f86930a-6671-4f47-9116-3023f37a5f04",
   "metadata": {
    "tags": []
   },
   "outputs": [],
   "source": [
    "import matplotlib.pyplot as plt\n",
    "import seaborn as sns\n",
    "%matplotlib inline"
   ]
  },
  {
   "cell_type": "code",
   "execution_count": 18,
   "id": "c31896be-e1f6-472e-b568-2f4b3428aa52",
   "metadata": {
    "tags": []
   },
   "outputs": [],
   "source": [
    "# Expectativas Adaptativas e Ingênuas quando ro = 0.5\n",
    "ing = exp_ing(a=0.9, b=1, t=10, Xinicial=1, ro=0.5, erro=1)\n",
    "adapt = exp_adapt(a=0.9,b=1, t=10,ro=0.5,erro=1, Xinicial=1)"
   ]
  },
  {
   "cell_type": "code",
   "execution_count": 26,
   "id": "266bbf50-6658-447d-abf5-7cd1c55220f7",
   "metadata": {
    "tags": []
   },
   "outputs": [
    {
     "data": {
      "text/plain": [
       "(       Xt      Yt\n",
       " t                \n",
       " 0  1.0000  10.000\n",
       " 1  1.5000  15.000\n",
       " 2  1.7500  17.500\n",
       " 3  1.8750  18.750\n",
       " 4  1.9375  19.375,\n",
       "        Xt        Yt\n",
       " t                  \n",
       " 0  1.5000  2.727273\n",
       " 1  1.5000  2.727273\n",
       " 2  1.7500  3.181818\n",
       " 3  1.8750  3.409091\n",
       " 4  1.9375  3.522727)"
      ]
     },
     "execution_count": 26,
     "metadata": {},
     "output_type": "execute_result"
    }
   ],
   "source": [
    "ing.head(), adapt.head()"
   ]
  },
  {
   "cell_type": "code",
   "execution_count": 71,
   "id": "deb05d7a-07a5-4b5b-a683-15dbd915b0c2",
   "metadata": {
    "tags": []
   },
   "outputs": [
    {
     "data": {
      "image/png": "[encoded data removed]",
      "text/plain": [
       "<Figure size 700x500 with 1 Axes>"
      ]
     },
     "metadata": {},
     "output_type": "display_data"
    }
   ],
   "source": [
    "fig, ax = plt.subplots(1,1, figsize=(7,5), sharey=True)\n",
    "\n",
    "ax.grid(visible=True, alpha=.3)\n",
    "\n",
    "ax.plot(ing.drop('Xt', axis=1))\n",
    "ax.plot(adapt.drop('Xt', axis=1), color='red')\n",
    "\n",
    "ax.set_title('Expectativas Ingênuas e Adaptativas (ro=0.5)')\n",
    "ax.legend(['Ing', 'Adapt'])\n",
    "\n",
    "plt.show()"
   ]
  },
  {
   "cell_type": "code",
   "execution_count": 72,
   "id": "a0d28be1-eb67-4471-8d38-6a7b0da950bb",
   "metadata": {
    "tags": []
   },
   "outputs": [],
   "source": [
    "# Expectativas Adaptativas e Ingênuas quando ro = 0\n",
    "ing = exp_ing(a=0.9, b=1, t=10, Xinicial=1, ro=0, erro=1)\n",
    "adapt = exp_adapt(a=0.9,b=1, t=10,ro=0,erro=1, Xinicial=1)"
   ]
  },
  {
   "cell_type": "code",
   "execution_count": 73,
   "id": "31f0a485-2d8a-4c54-ad14-4ae89455c19a",
   "metadata": {
    "tags": []
   },
   "outputs": [
    {
     "data": {
      "text/plain": [
       "(   Xt    Yt\n",
       " t          \n",
       " 0   1  10.0\n",
       " 1   1  10.0\n",
       " 2   1  10.0\n",
       " 3   1  10.0\n",
       " 4   1  10.0,\n",
       "     Xt   Yt\n",
       " t          \n",
       " 0  1.0  1.0\n",
       " 1  1.0  1.0\n",
       " 2  1.0  1.0\n",
       " 3  1.0  1.0\n",
       " 4  1.0  1.0)"
      ]
     },
     "execution_count": 73,
     "metadata": {},
     "output_type": "execute_result"
    }
   ],
   "source": [
    "ing.head(), adapt.head()"
   ]
  },
  {
   "cell_type": "code",
   "execution_count": 74,
   "id": "3cc377b4-abd7-4a6f-b60b-65c33d70422d",
   "metadata": {
    "tags": []
   },
   "outputs": [
    {
     "data": {
      "image/png": "[encoded data removed]",
      "text/plain": [
       "<Figure size 700x500 with 1 Axes>"
      ]
     },
     "metadata": {},
     "output_type": "display_data"
    }
   ],
   "source": [
    "fig, ax = plt.subplots(1,1, figsize=(7,5), sharey=True)\n",
    "\n",
    "ax.grid(visible=True, alpha=.3)\n",
    "\n",
    "ax.plot(ing.drop('Xt', axis=1))\n",
    "ax.plot(adapt.drop('Xt', axis=1), color='red')\n",
    "\n",
    "ax.set_title('Expectativas Ingênuas e Adaptativas (ro=0)')\n",
    "ax.legend(['Ing', 'Adapt'])\n",
    "\n",
    "plt.show()"
   ]
  }
 ],
 "metadata": {
  "kernelspec": {
   "display_name": "Python 3 (ipykernel)",
   "language": "python",
   "name": "python3"
  },
  "language_info": {
   "codemirror_mode": {
    "name": "ipython",
    "version": 3
   },
   "file_extension": ".py",
   "mimetype": "text/x-python",
   "name": "python",
   "nbconvert_exporter": "python",
   "pygments_lexer": "ipython3",
   "version": "3.10.10"
  },
  "toc-showmarkdowntxt": true
 },
 "nbformat": 4,
 "nbformat_minor": 5
}
